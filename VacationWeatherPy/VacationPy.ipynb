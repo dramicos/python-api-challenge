{
 "cells": [
  {
   "cell_type": "markdown",
   "metadata": {},
   "source": [
    "# VacationPy\n",
    "----\n",
    "\n",
    "#### Note\n",
    "* Keep an eye on your API usage. Use https://developers.google.com/maps/reporting/gmp-reporting as reference for how to monitor your usage and billing.\n",
    "\n",
    "* Instructions have been included for each segment. You do not have to follow them exactly, but they are included to help you think through the steps."
   ]
  },
  {
   "cell_type": "code",
   "execution_count": 1,
   "metadata": {},
   "outputs": [],
   "source": [
    "# Dependencies and Setup\n",
    "import matplotlib.pyplot as plt\n",
    "import pandas as pd\n",
    "import numpy as np\n",
    "import requests\n",
    "import gmaps\n",
    "import os\n",
    "\n",
    "# Import API key\n",
    "from api_keys import g_key"
   ]
  },
  {
   "cell_type": "markdown",
   "metadata": {},
   "source": [
    "### Store Part I results into DataFrame\n",
    "* Load the csv exported in Part I to a DataFrame"
   ]
  },
  {
   "cell_type": "code",
   "execution_count": 2,
   "metadata": {},
   "outputs": [],
   "source": [
    "input_data_file = \"../output_data/cities.csv\"\n",
    "\n",
    "city_data_df = pd.read_csv(input_data_file)\n",
    "city_data_df.drop(columns=['Unnamed: 0'], inplace=True)"
   ]
  },
  {
   "cell_type": "markdown",
   "metadata": {},
   "source": [
    "### Humidity Heatmap\n",
    "* Configure gmaps.\n",
    "* Use the Lat and Lng as locations and Humidity as the weight.\n",
    "* Add Heatmap layer to map."
   ]
  },
  {
   "cell_type": "code",
   "execution_count": 3,
   "metadata": {},
   "outputs": [],
   "source": [
    "# Configure gmaps with API key\n",
    "gmaps.configure(api_key=g_key)"
   ]
  },
  {
   "cell_type": "code",
   "execution_count": 4,
   "metadata": {},
   "outputs": [],
   "source": [
    "# Set the locations\n",
    "locations = city_data_df[[\"Lat\", \"Lon\"]].astype(float)"
   ]
  },
  {
   "cell_type": "code",
   "execution_count": 5,
   "metadata": {},
   "outputs": [],
   "source": [
    "# Set the weight\n",
    "humidity = city_data_df['Humidity'].astype(float)"
   ]
  },
  {
   "cell_type": "code",
   "execution_count": 6,
   "metadata": {},
   "outputs": [
    {
     "data": {
      "application/vnd.jupyter.widget-view+json": {
       "model_id": "e19db5c66b1c4d1a8a8c1816642187e2",
       "version_major": 2,
       "version_minor": 0
      },
      "text/plain": [
       "Figure(layout=FigureLayout(height='420px'))"
      ]
     },
     "metadata": {},
     "output_type": "display_data"
    },
    {
     "data": {
      "text/plain": [
       "<Figure size 432x288 with 0 Axes>"
      ]
     },
     "metadata": {},
     "output_type": "display_data"
    }
   ],
   "source": [
    "fig = gmaps.figure(center=locations.iloc[3,0:2].tolist(), zoom_level=2)\n",
    "\n",
    "heat_layer = gmaps.heatmap_layer(locations, weights=humidity, \n",
    "                                 dissipating=False, max_intensity=100,\n",
    "                                 point_radius = 2)\n",
    "\n",
    "fig.add_layer(heat_layer)\n",
    "\n",
    "plt.savefig(\"../Images/humidity_map.png\")\n",
    "fig"
   ]
  },
  {
   "cell_type": "markdown",
   "metadata": {},
   "source": [
    "### Create new DataFrame fitting weather criteria\n",
    "* Narrow down the cities to fit weather conditions.\n",
    "* Drop any rows will null values."
   ]
  },
  {
   "cell_type": "code",
   "execution_count": 7,
   "metadata": {},
   "outputs": [],
   "source": [
    "good_cities_data_df = city_data_df.loc[((city_data_df['Max Temp'] >80) & (city_data_df['Max Temp'] < 90) & (city_data_df['Humidity'] < 50) & (city_data_df['Cloudiness'] < 50) & (city_data_df['Wind Speed'] < 10))]"
   ]
  },
  {
   "cell_type": "code",
   "execution_count": 8,
   "metadata": {},
   "outputs": [
    {
     "data": {
      "text/html": [
       "<div>\n",
       "<style scoped>\n",
       "    .dataframe tbody tr th:only-of-type {\n",
       "        vertical-align: middle;\n",
       "    }\n",
       "\n",
       "    .dataframe tbody tr th {\n",
       "        vertical-align: top;\n",
       "    }\n",
       "\n",
       "    .dataframe thead th {\n",
       "        text-align: right;\n",
       "    }\n",
       "</style>\n",
       "<table border=\"1\" class=\"dataframe\">\n",
       "  <thead>\n",
       "    <tr style=\"text-align: right;\">\n",
       "      <th></th>\n",
       "      <th>City</th>\n",
       "      <th>Lat</th>\n",
       "      <th>Lon</th>\n",
       "      <th>Max Temp</th>\n",
       "      <th>Humidity</th>\n",
       "      <th>Cloudiness</th>\n",
       "      <th>Wind Speed</th>\n",
       "      <th>Country</th>\n",
       "      <th>Date</th>\n",
       "    </tr>\n",
       "  </thead>\n",
       "  <tbody>\n",
       "    <tr>\n",
       "      <th>40</th>\n",
       "      <td>Carinhanha</td>\n",
       "      <td>-14.3047</td>\n",
       "      <td>-43.7650</td>\n",
       "      <td>81.70</td>\n",
       "      <td>31</td>\n",
       "      <td>1</td>\n",
       "      <td>3.18</td>\n",
       "      <td>BR</td>\n",
       "      <td>1659645956</td>\n",
       "    </tr>\n",
       "    <tr>\n",
       "      <th>201</th>\n",
       "      <td>Saint Anthony</td>\n",
       "      <td>45.0205</td>\n",
       "      <td>-93.2180</td>\n",
       "      <td>88.14</td>\n",
       "      <td>39</td>\n",
       "      <td>0</td>\n",
       "      <td>6.91</td>\n",
       "      <td>US</td>\n",
       "      <td>1659645920</td>\n",
       "    </tr>\n",
       "    <tr>\n",
       "      <th>392</th>\n",
       "      <td>Menomonie</td>\n",
       "      <td>44.8755</td>\n",
       "      <td>-91.9193</td>\n",
       "      <td>83.73</td>\n",
       "      <td>44</td>\n",
       "      <td>0</td>\n",
       "      <td>5.75</td>\n",
       "      <td>US</td>\n",
       "      <td>1659646070</td>\n",
       "    </tr>\n",
       "    <tr>\n",
       "      <th>397</th>\n",
       "      <td>Ocosingo</td>\n",
       "      <td>17.0667</td>\n",
       "      <td>-92.2500</td>\n",
       "      <td>83.53</td>\n",
       "      <td>33</td>\n",
       "      <td>9</td>\n",
       "      <td>6.67</td>\n",
       "      <td>MX</td>\n",
       "      <td>1659646071</td>\n",
       "    </tr>\n",
       "    <tr>\n",
       "      <th>480</th>\n",
       "      <td>Abu Samrah</td>\n",
       "      <td>35.3029</td>\n",
       "      <td>37.1841</td>\n",
       "      <td>85.66</td>\n",
       "      <td>38</td>\n",
       "      <td>0</td>\n",
       "      <td>6.26</td>\n",
       "      <td>SY</td>\n",
       "      <td>1659646099</td>\n",
       "    </tr>\n",
       "    <tr>\n",
       "      <th>481</th>\n",
       "      <td>Capinópolis</td>\n",
       "      <td>-18.6819</td>\n",
       "      <td>-49.5697</td>\n",
       "      <td>82.72</td>\n",
       "      <td>26</td>\n",
       "      <td>39</td>\n",
       "      <td>1.70</td>\n",
       "      <td>BR</td>\n",
       "      <td>1659646099</td>\n",
       "    </tr>\n",
       "    <tr>\n",
       "      <th>531</th>\n",
       "      <td>Korla</td>\n",
       "      <td>41.7597</td>\n",
       "      <td>86.1469</td>\n",
       "      <td>81.79</td>\n",
       "      <td>34</td>\n",
       "      <td>1</td>\n",
       "      <td>3.40</td>\n",
       "      <td>CN</td>\n",
       "      <td>1659646117</td>\n",
       "    </tr>\n",
       "    <tr>\n",
       "      <th>549</th>\n",
       "      <td>Kaka</td>\n",
       "      <td>37.3482</td>\n",
       "      <td>59.6143</td>\n",
       "      <td>83.53</td>\n",
       "      <td>20</td>\n",
       "      <td>0</td>\n",
       "      <td>3.58</td>\n",
       "      <td>TM</td>\n",
       "      <td>1659646122</td>\n",
       "    </tr>\n",
       "  </tbody>\n",
       "</table>\n",
       "</div>"
      ],
      "text/plain": [
       "              City      Lat      Lon  Max Temp  Humidity  Cloudiness  \\\n",
       "40      Carinhanha -14.3047 -43.7650     81.70        31           1   \n",
       "201  Saint Anthony  45.0205 -93.2180     88.14        39           0   \n",
       "392      Menomonie  44.8755 -91.9193     83.73        44           0   \n",
       "397       Ocosingo  17.0667 -92.2500     83.53        33           9   \n",
       "480     Abu Samrah  35.3029  37.1841     85.66        38           0   \n",
       "481    Capinópolis -18.6819 -49.5697     82.72        26          39   \n",
       "531          Korla  41.7597  86.1469     81.79        34           1   \n",
       "549           Kaka  37.3482  59.6143     83.53        20           0   \n",
       "\n",
       "     Wind Speed Country        Date  \n",
       "40         3.18      BR  1659645956  \n",
       "201        6.91      US  1659645920  \n",
       "392        5.75      US  1659646070  \n",
       "397        6.67      MX  1659646071  \n",
       "480        6.26      SY  1659646099  \n",
       "481        1.70      BR  1659646099  \n",
       "531        3.40      CN  1659646117  \n",
       "549        3.58      TM  1659646122  "
      ]
     },
     "execution_count": 8,
     "metadata": {},
     "output_type": "execute_result"
    }
   ],
   "source": [
    "good_cities_data_df"
   ]
  },
  {
   "cell_type": "code",
   "execution_count": 9,
   "metadata": {},
   "outputs": [],
   "source": [
    "# Cities with missing data were rejected in the original API calls\n",
    "# Otherwise I'd use good_cities_data_df = good_cities_data_df.dropna()"
   ]
  },
  {
   "cell_type": "markdown",
   "metadata": {},
   "source": [
    "### Hotel Map\n",
    "* Store into variable named `hotel_df`.\n",
    "* Add a \"Hotel Name\" column to the DataFrame.\n",
    "* Set parameters to search for hotels with 5000 meters.\n",
    "* Hit the Google Places API for each city's coordinates.\n",
    "* Store the first Hotel result into the DataFrame.\n",
    "* Plot markers on top of the heatmap."
   ]
  },
  {
   "cell_type": "code",
   "execution_count": 10,
   "metadata": {},
   "outputs": [],
   "source": [
    "hotel_df = good_cities_data_df.copy()"
   ]
  },
  {
   "cell_type": "code",
   "execution_count": 11,
   "metadata": {},
   "outputs": [],
   "source": [
    "hotel_df['Hotel Name'] = ''"
   ]
  },
  {
   "cell_type": "code",
   "execution_count": 12,
   "metadata": {},
   "outputs": [],
   "source": [
    "hotel_df.reset_index(inplace=True, drop=True)"
   ]
  },
  {
   "cell_type": "code",
   "execution_count": 13,
   "metadata": {},
   "outputs": [
    {
     "data": {
      "text/html": [
       "<div>\n",
       "<style scoped>\n",
       "    .dataframe tbody tr th:only-of-type {\n",
       "        vertical-align: middle;\n",
       "    }\n",
       "\n",
       "    .dataframe tbody tr th {\n",
       "        vertical-align: top;\n",
       "    }\n",
       "\n",
       "    .dataframe thead th {\n",
       "        text-align: right;\n",
       "    }\n",
       "</style>\n",
       "<table border=\"1\" class=\"dataframe\">\n",
       "  <thead>\n",
       "    <tr style=\"text-align: right;\">\n",
       "      <th></th>\n",
       "      <th>City</th>\n",
       "      <th>Lat</th>\n",
       "      <th>Lon</th>\n",
       "      <th>Max Temp</th>\n",
       "      <th>Humidity</th>\n",
       "      <th>Cloudiness</th>\n",
       "      <th>Wind Speed</th>\n",
       "      <th>Country</th>\n",
       "      <th>Date</th>\n",
       "      <th>Hotel Name</th>\n",
       "    </tr>\n",
       "  </thead>\n",
       "  <tbody>\n",
       "    <tr>\n",
       "      <th>0</th>\n",
       "      <td>Carinhanha</td>\n",
       "      <td>-14.3047</td>\n",
       "      <td>-43.7650</td>\n",
       "      <td>81.70</td>\n",
       "      <td>31</td>\n",
       "      <td>1</td>\n",
       "      <td>3.18</td>\n",
       "      <td>BR</td>\n",
       "      <td>1659645956</td>\n",
       "      <td></td>\n",
       "    </tr>\n",
       "    <tr>\n",
       "      <th>1</th>\n",
       "      <td>Saint Anthony</td>\n",
       "      <td>45.0205</td>\n",
       "      <td>-93.2180</td>\n",
       "      <td>88.14</td>\n",
       "      <td>39</td>\n",
       "      <td>0</td>\n",
       "      <td>6.91</td>\n",
       "      <td>US</td>\n",
       "      <td>1659645920</td>\n",
       "      <td></td>\n",
       "    </tr>\n",
       "    <tr>\n",
       "      <th>2</th>\n",
       "      <td>Menomonie</td>\n",
       "      <td>44.8755</td>\n",
       "      <td>-91.9193</td>\n",
       "      <td>83.73</td>\n",
       "      <td>44</td>\n",
       "      <td>0</td>\n",
       "      <td>5.75</td>\n",
       "      <td>US</td>\n",
       "      <td>1659646070</td>\n",
       "      <td></td>\n",
       "    </tr>\n",
       "    <tr>\n",
       "      <th>3</th>\n",
       "      <td>Ocosingo</td>\n",
       "      <td>17.0667</td>\n",
       "      <td>-92.2500</td>\n",
       "      <td>83.53</td>\n",
       "      <td>33</td>\n",
       "      <td>9</td>\n",
       "      <td>6.67</td>\n",
       "      <td>MX</td>\n",
       "      <td>1659646071</td>\n",
       "      <td></td>\n",
       "    </tr>\n",
       "    <tr>\n",
       "      <th>4</th>\n",
       "      <td>Abu Samrah</td>\n",
       "      <td>35.3029</td>\n",
       "      <td>37.1841</td>\n",
       "      <td>85.66</td>\n",
       "      <td>38</td>\n",
       "      <td>0</td>\n",
       "      <td>6.26</td>\n",
       "      <td>SY</td>\n",
       "      <td>1659646099</td>\n",
       "      <td></td>\n",
       "    </tr>\n",
       "    <tr>\n",
       "      <th>5</th>\n",
       "      <td>Capinópolis</td>\n",
       "      <td>-18.6819</td>\n",
       "      <td>-49.5697</td>\n",
       "      <td>82.72</td>\n",
       "      <td>26</td>\n",
       "      <td>39</td>\n",
       "      <td>1.70</td>\n",
       "      <td>BR</td>\n",
       "      <td>1659646099</td>\n",
       "      <td></td>\n",
       "    </tr>\n",
       "    <tr>\n",
       "      <th>6</th>\n",
       "      <td>Korla</td>\n",
       "      <td>41.7597</td>\n",
       "      <td>86.1469</td>\n",
       "      <td>81.79</td>\n",
       "      <td>34</td>\n",
       "      <td>1</td>\n",
       "      <td>3.40</td>\n",
       "      <td>CN</td>\n",
       "      <td>1659646117</td>\n",
       "      <td></td>\n",
       "    </tr>\n",
       "    <tr>\n",
       "      <th>7</th>\n",
       "      <td>Kaka</td>\n",
       "      <td>37.3482</td>\n",
       "      <td>59.6143</td>\n",
       "      <td>83.53</td>\n",
       "      <td>20</td>\n",
       "      <td>0</td>\n",
       "      <td>3.58</td>\n",
       "      <td>TM</td>\n",
       "      <td>1659646122</td>\n",
       "      <td></td>\n",
       "    </tr>\n",
       "  </tbody>\n",
       "</table>\n",
       "</div>"
      ],
      "text/plain": [
       "            City      Lat      Lon  Max Temp  Humidity  Cloudiness  \\\n",
       "0     Carinhanha -14.3047 -43.7650     81.70        31           1   \n",
       "1  Saint Anthony  45.0205 -93.2180     88.14        39           0   \n",
       "2      Menomonie  44.8755 -91.9193     83.73        44           0   \n",
       "3       Ocosingo  17.0667 -92.2500     83.53        33           9   \n",
       "4     Abu Samrah  35.3029  37.1841     85.66        38           0   \n",
       "5    Capinópolis -18.6819 -49.5697     82.72        26          39   \n",
       "6          Korla  41.7597  86.1469     81.79        34           1   \n",
       "7           Kaka  37.3482  59.6143     83.53        20           0   \n",
       "\n",
       "   Wind Speed Country        Date Hotel Name  \n",
       "0        3.18      BR  1659645956             \n",
       "1        6.91      US  1659645920             \n",
       "2        5.75      US  1659646070             \n",
       "3        6.67      MX  1659646071             \n",
       "4        6.26      SY  1659646099             \n",
       "5        1.70      BR  1659646099             \n",
       "6        3.40      CN  1659646117             \n",
       "7        3.58      TM  1659646122             "
      ]
     },
     "execution_count": 13,
     "metadata": {},
     "output_type": "execute_result"
    }
   ],
   "source": [
    "hotel_df"
   ]
  },
  {
   "cell_type": "code",
   "execution_count": 14,
   "metadata": {},
   "outputs": [],
   "source": [
    "base_url = \"https://maps.googleapis.com/maps/api/place/nearbysearch/json\"\n",
    "target_radius = 5000"
   ]
  },
  {
   "cell_type": "code",
   "execution_count": 15,
   "metadata": {},
   "outputs": [
    {
     "name": "stdout",
     "output_type": "stream",
     "text": [
      "Closest hotel in Carinhanha is Hotel União.\n",
      "------------\n",
      "Closest hotel in Saint Anthony is Holiday Inn Express Roseville-St. Paul, an IHG Hotel.\n",
      "------------\n",
      "Closest hotel in Menomonie is Best Western Plus Menomonie Inn & Suites.\n",
      "------------\n",
      "Closest hotel in Ocosingo is Chabek lumil.\n",
      "------------\n",
      "[]\n",
      "------------\n",
      "Closest hotel in Capinópolis is Tropical Hotel Capinópolis.\n",
      "------------\n",
      "Closest hotel in Korla is Gulisitan Hotel.\n",
      "------------\n",
      "[]\n",
      "------------\n"
     ]
    }
   ],
   "source": [
    "#use iterrows to iterate through pandas dataframe\n",
    "params = {\n",
    "    \"radius\": target_radius,\n",
    "    \"type\": \"lodging\",    \n",
    "    \"key\": g_key,\n",
    "    }\n",
    "\n",
    "for index, row in hotel_df.iterrows():\n",
    "    # assemble url and make API request\n",
    "    lat = hotel_df.iloc[index,1]\n",
    "    lon = hotel_df.iloc[index,2]\n",
    "    \n",
    "    params[\"location\"]=f\"{lat},{lon}\"\n",
    "\n",
    "    response = requests.get(base_url, params=params).json()\n",
    "    \n",
    "    # extract results\n",
    "    results = response['results']\n",
    "    \n",
    "    try:\n",
    "        print(f\"Closest hotel in { hotel_df.iloc[ index, 0 ] } is {results[0]['name']}.\")\n",
    "        hotel_df.loc[index, 'Hotel Name'] = results[0]['name']       \n",
    "    except (KeyError, IndexError):\n",
    "        print(results)\n",
    "        \n",
    "    print(\"------------\")"
   ]
  },
  {
   "cell_type": "code",
   "execution_count": 16,
   "metadata": {},
   "outputs": [
    {
     "data": {
      "text/html": [
       "<div>\n",
       "<style scoped>\n",
       "    .dataframe tbody tr th:only-of-type {\n",
       "        vertical-align: middle;\n",
       "    }\n",
       "\n",
       "    .dataframe tbody tr th {\n",
       "        vertical-align: top;\n",
       "    }\n",
       "\n",
       "    .dataframe thead th {\n",
       "        text-align: right;\n",
       "    }\n",
       "</style>\n",
       "<table border=\"1\" class=\"dataframe\">\n",
       "  <thead>\n",
       "    <tr style=\"text-align: right;\">\n",
       "      <th></th>\n",
       "      <th>City</th>\n",
       "      <th>Lat</th>\n",
       "      <th>Lon</th>\n",
       "      <th>Max Temp</th>\n",
       "      <th>Humidity</th>\n",
       "      <th>Cloudiness</th>\n",
       "      <th>Wind Speed</th>\n",
       "      <th>Country</th>\n",
       "      <th>Date</th>\n",
       "      <th>Hotel Name</th>\n",
       "    </tr>\n",
       "  </thead>\n",
       "  <tbody>\n",
       "    <tr>\n",
       "      <th>0</th>\n",
       "      <td>Carinhanha</td>\n",
       "      <td>-14.3047</td>\n",
       "      <td>-43.7650</td>\n",
       "      <td>81.70</td>\n",
       "      <td>31</td>\n",
       "      <td>1</td>\n",
       "      <td>3.18</td>\n",
       "      <td>BR</td>\n",
       "      <td>1659645956</td>\n",
       "      <td>Hotel União</td>\n",
       "    </tr>\n",
       "    <tr>\n",
       "      <th>1</th>\n",
       "      <td>Saint Anthony</td>\n",
       "      <td>45.0205</td>\n",
       "      <td>-93.2180</td>\n",
       "      <td>88.14</td>\n",
       "      <td>39</td>\n",
       "      <td>0</td>\n",
       "      <td>6.91</td>\n",
       "      <td>US</td>\n",
       "      <td>1659645920</td>\n",
       "      <td>Holiday Inn Express Roseville-St. Paul, an IHG...</td>\n",
       "    </tr>\n",
       "    <tr>\n",
       "      <th>2</th>\n",
       "      <td>Menomonie</td>\n",
       "      <td>44.8755</td>\n",
       "      <td>-91.9193</td>\n",
       "      <td>83.73</td>\n",
       "      <td>44</td>\n",
       "      <td>0</td>\n",
       "      <td>5.75</td>\n",
       "      <td>US</td>\n",
       "      <td>1659646070</td>\n",
       "      <td>Best Western Plus Menomonie Inn &amp; Suites</td>\n",
       "    </tr>\n",
       "    <tr>\n",
       "      <th>3</th>\n",
       "      <td>Ocosingo</td>\n",
       "      <td>17.0667</td>\n",
       "      <td>-92.2500</td>\n",
       "      <td>83.53</td>\n",
       "      <td>33</td>\n",
       "      <td>9</td>\n",
       "      <td>6.67</td>\n",
       "      <td>MX</td>\n",
       "      <td>1659646071</td>\n",
       "      <td>Chabek lumil</td>\n",
       "    </tr>\n",
       "    <tr>\n",
       "      <th>4</th>\n",
       "      <td>Abu Samrah</td>\n",
       "      <td>35.3029</td>\n",
       "      <td>37.1841</td>\n",
       "      <td>85.66</td>\n",
       "      <td>38</td>\n",
       "      <td>0</td>\n",
       "      <td>6.26</td>\n",
       "      <td>SY</td>\n",
       "      <td>1659646099</td>\n",
       "      <td></td>\n",
       "    </tr>\n",
       "    <tr>\n",
       "      <th>5</th>\n",
       "      <td>Capinópolis</td>\n",
       "      <td>-18.6819</td>\n",
       "      <td>-49.5697</td>\n",
       "      <td>82.72</td>\n",
       "      <td>26</td>\n",
       "      <td>39</td>\n",
       "      <td>1.70</td>\n",
       "      <td>BR</td>\n",
       "      <td>1659646099</td>\n",
       "      <td>Tropical Hotel Capinópolis</td>\n",
       "    </tr>\n",
       "    <tr>\n",
       "      <th>6</th>\n",
       "      <td>Korla</td>\n",
       "      <td>41.7597</td>\n",
       "      <td>86.1469</td>\n",
       "      <td>81.79</td>\n",
       "      <td>34</td>\n",
       "      <td>1</td>\n",
       "      <td>3.40</td>\n",
       "      <td>CN</td>\n",
       "      <td>1659646117</td>\n",
       "      <td>Gulisitan Hotel</td>\n",
       "    </tr>\n",
       "    <tr>\n",
       "      <th>7</th>\n",
       "      <td>Kaka</td>\n",
       "      <td>37.3482</td>\n",
       "      <td>59.6143</td>\n",
       "      <td>83.53</td>\n",
       "      <td>20</td>\n",
       "      <td>0</td>\n",
       "      <td>3.58</td>\n",
       "      <td>TM</td>\n",
       "      <td>1659646122</td>\n",
       "      <td></td>\n",
       "    </tr>\n",
       "  </tbody>\n",
       "</table>\n",
       "</div>"
      ],
      "text/plain": [
       "            City      Lat      Lon  Max Temp  Humidity  Cloudiness  \\\n",
       "0     Carinhanha -14.3047 -43.7650     81.70        31           1   \n",
       "1  Saint Anthony  45.0205 -93.2180     88.14        39           0   \n",
       "2      Menomonie  44.8755 -91.9193     83.73        44           0   \n",
       "3       Ocosingo  17.0667 -92.2500     83.53        33           9   \n",
       "4     Abu Samrah  35.3029  37.1841     85.66        38           0   \n",
       "5    Capinópolis -18.6819 -49.5697     82.72        26          39   \n",
       "6          Korla  41.7597  86.1469     81.79        34           1   \n",
       "7           Kaka  37.3482  59.6143     83.53        20           0   \n",
       "\n",
       "   Wind Speed Country        Date  \\\n",
       "0        3.18      BR  1659645956   \n",
       "1        6.91      US  1659645920   \n",
       "2        5.75      US  1659646070   \n",
       "3        6.67      MX  1659646071   \n",
       "4        6.26      SY  1659646099   \n",
       "5        1.70      BR  1659646099   \n",
       "6        3.40      CN  1659646117   \n",
       "7        3.58      TM  1659646122   \n",
       "\n",
       "                                          Hotel Name  \n",
       "0                                        Hotel União  \n",
       "1  Holiday Inn Express Roseville-St. Paul, an IHG...  \n",
       "2           Best Western Plus Menomonie Inn & Suites  \n",
       "3                                       Chabek lumil  \n",
       "4                                                     \n",
       "5                         Tropical Hotel Capinópolis  \n",
       "6                                    Gulisitan Hotel  \n",
       "7                                                     "
      ]
     },
     "execution_count": 16,
     "metadata": {},
     "output_type": "execute_result"
    }
   ],
   "source": [
    "hotel_df"
   ]
  },
  {
   "cell_type": "code",
   "execution_count": 17,
   "metadata": {},
   "outputs": [],
   "source": [
    "hotel_df['Hotel Name'].replace('', np.nan, inplace=True)"
   ]
  },
  {
   "cell_type": "code",
   "execution_count": 18,
   "metadata": {},
   "outputs": [],
   "source": [
    "hotel_df.dropna(inplace=True)"
   ]
  },
  {
   "cell_type": "code",
   "execution_count": 19,
   "metadata": {},
   "outputs": [],
   "source": [
    "hotel_df.reset_index(inplace=True, drop=True)"
   ]
  },
  {
   "cell_type": "code",
   "execution_count": 20,
   "metadata": {},
   "outputs": [],
   "source": [
    "# NOTE: Do not change any of the code in this cell\n",
    "\n",
    "# Using the template add the hotel marks to the heatmap\n",
    "info_box_template = \"\"\"\n",
    "<dl>\n",
    "<dt>Name</dt><dd>{Hotel Name}</dd>\n",
    "<dt>City</dt><dd>{City}</dd>\n",
    "<dt>Country</dt><dd>{Country}</dd>\n",
    "</dl>\n",
    "\"\"\"\n",
    "# Store the DataFrame Row\n",
    "# NOTE: be sure to update with your DataFrame name\n",
    "hotel_info = [info_box_template.format(**row) for index, row in hotel_df.iterrows()]\n",
    "locations = hotel_df[[\"Lat\", \"Lon\"]]"
   ]
  },
  {
   "cell_type": "code",
   "execution_count": 21,
   "metadata": {},
   "outputs": [],
   "source": [
    "humidity = hotel_df['Humidity']"
   ]
  },
  {
   "cell_type": "code",
   "execution_count": 22,
   "metadata": {},
   "outputs": [
    {
     "data": {
      "application/vnd.jupyter.widget-view+json": {
       "model_id": "ae8a1a54cd7d42e18dd66a10b951607d",
       "version_major": 2,
       "version_minor": 0
      },
      "text/plain": [
       "Figure(layout=FigureLayout(height='420px'))"
      ]
     },
     "metadata": {},
     "output_type": "display_data"
    },
    {
     "data": {
      "text/plain": [
       "<Figure size 432x288 with 0 Axes>"
      ]
     },
     "metadata": {},
     "output_type": "display_data"
    }
   ],
   "source": [
    "# Add marker layer ontop of heat map\n",
    "marker_locations = hotel_df[['Lat', 'Lon']]\n",
    "\n",
    "# Display figure\n",
    "fig = gmaps.figure(center=locations.iloc[3,0:2].tolist(), zoom_level=2)\n",
    "\n",
    "heat_layer = gmaps.heatmap_layer(locations, weights=humidity, \n",
    "                                 dissipating=False, max_intensity=100,\n",
    "                                 point_radius = 3)\n",
    "fig.add_layer(heat_layer)\n",
    "markers = gmaps.marker_layer(marker_locations,\n",
    "    info_box_content=[f\"Hotel {hotel_df.iloc[index,9]} in {hotel_df.iloc[index,0]}, {hotel_df.iloc[index,7]}\" for index in hotel_df.index])\n",
    "fig.add_layer(markers)\n",
    "\n",
    "fig"
   ]
  },
  {
   "cell_type": "code",
   "execution_count": null,
   "metadata": {},
   "outputs": [],
   "source": []
  }
 ],
 "metadata": {
  "kernelspec": {
   "display_name": "Python 3 (ipykernel)",
   "language": "python",
   "name": "python3"
  },
  "language_info": {
   "codemirror_mode": {
    "name": "ipython",
    "version": 3
   },
   "file_extension": ".py",
   "mimetype": "text/x-python",
   "name": "python",
   "nbconvert_exporter": "python",
   "pygments_lexer": "ipython3",
   "version": "3.8.13"
  },
  "latex_envs": {
   "LaTeX_envs_menu_present": true,
   "autoclose": false,
   "autocomplete": true,
   "bibliofile": "biblio.bib",
   "cite_by": "apalike",
   "current_citInitial": 1,
   "eqLabelWithNumbers": true,
   "eqNumInitial": 1,
   "hotkeys": {
    "equation": "Ctrl-E",
    "itemize": "Ctrl-I"
   },
   "labels_anchors": false,
   "latex_user_defs": false,
   "report_style_numbering": false,
   "user_envs_cfg": false
  }
 },
 "nbformat": 4,
 "nbformat_minor": 4
}
